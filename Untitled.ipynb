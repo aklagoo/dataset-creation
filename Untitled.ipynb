{
 "cells": [
  {
   "cell_type": "code",
   "execution_count": 1,
   "id": "205b9e81-e99a-4eba-bb56-e7551de4458d",
   "metadata": {},
   "outputs": [
    {
     "name": "stdout",
     "output_type": "stream",
     "text": [
      "Collecting list of blacklisted domains\n"
     ]
    }
   ],
   "source": [
    "from lib import download, extract, pipeline, utils, config\n",
    "import os"
   ]
  },
  {
   "cell_type": "code",
   "execution_count": null,
   "id": "2b7419f2-4cf0-4bca-9149-4b78c2c88fd3",
   "metadata": {},
   "outputs": [],
   "source": [
    "samples = extract.extract(\"data/segments/CC-MAIN-20210723143921-20210723173921-00258.warc.gz\", \"1627046149929.88\")"
   ]
  },
  {
   "cell_type": "code",
   "execution_count": null,
   "id": "ebc9447a-675f-48f1-9ce9-31a9b479d1c0",
   "metadata": {},
   "outputs": [],
   "source": [
    "samples_t = pipeline.filter_text(samples)"
   ]
  },
  {
   "cell_type": "code",
   "execution_count": null,
   "id": "4ca3bf40-b4b0-45f0-9137-280bd4ef49ac",
   "metadata": {
    "scrolled": true,
    "tags": []
   },
   "outputs": [],
   "source": [
    "samples_d = pipeline.download(samples_t)"
   ]
  },
  {
   "cell_type": "code",
   "execution_count": null,
   "id": "b1d52eb1-36b7-4bd2-b90c-fec56b55fca4",
   "metadata": {
    "scrolled": true,
    "tags": []
   },
   "outputs": [],
   "source": [
    "samples_i = pipeline.detect_and_filter_img(samples_d)"
   ]
  },
  {
   "cell_type": "code",
   "execution_count": null,
   "id": "bc1bbbbd-a8c3-4fcf-99de-f9aaf5b5b2e1",
   "metadata": {},
   "outputs": [],
   "source": [
    "csv_name = \"data/segments/CC-MAIN-20210723143921-20210723173921-00258.warc.gz\".split('/')[-1].split('.')[0] + '.csv'\n",
    "csv_path = os.path.join(config.CSV_FILE_SAMPLES, csv_name)\n",
    "utils.export_csv(samples, csv_path)"
   ]
  }
 ],
 "metadata": {
  "kernelspec": {
   "display_name": "Python 3",
   "language": "python",
   "name": "python3"
  },
  "language_info": {
   "codemirror_mode": {
    "name": "ipython",
    "version": 3
   },
   "file_extension": ".py",
   "mimetype": "text/x-python",
   "name": "python",
   "nbconvert_exporter": "python",
   "pygments_lexer": "ipython3",
   "version": "3.8.11"
  }
 },
 "nbformat": 4,
 "nbformat_minor": 5
}
