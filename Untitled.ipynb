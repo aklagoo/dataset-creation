{
 "cells": [
  {
   "cell_type": "code",
   "execution_count": 1,
   "id": "78c507dc-2788-43ce-9cf3-354ef34341ce",
   "metadata": {},
   "outputs": [],
   "source": [
    "INP_PATH = \"data/segments/CC-MAIN-20210723143921-20210723173921-00258.warc.gz\""
   ]
  },
  {
   "cell_type": "code",
   "execution_count": 4,
   "id": "37d6354c-1d57-41bf-a776-64bbab7a159f",
   "metadata": {},
   "outputs": [],
   "source": [
    "from warcio.archiveiterator import ArchiveIterator\n",
    "from bs4 import BeautifulSoup\n",
    "import urllib\n",
    "from collections import namedtuple\n",
    "import uuid\n",
    "import os\n",
    "import pandas as pd"
   ]
  },
  {
   "cell_type": "code",
   "execution_count": 16,
   "id": "d275bda7-ae47-4a56-870b-c814a9576652",
   "metadata": {},
   "outputs": [],
   "source": [
    "def main():\n",
    "    with open(INP_PATH, 'rb') as stream:\n",
    "        for record in ArchiveIterator(stream):\n",
    "            try:\n",
    "                content = record.content_stream().read().decode(\"utf-8\")\n",
    "                soup = BeautifulSoup(content, 'html.parser')\n",
    "\n",
    "                image_list = soup.findAll('img')\n",
    "                for img in image_list:\n",
    "                    c = img.parent.find_all(recursive=False)\n",
    "                    text = []\n",
    "                    for tag in c:\n",
    "                        if tag.name != img:\n",
    "                            text.append(tag.getText())\n",
    "                    \n",
    "                    return text\n",
    "            except:\n",
    "                pass"
   ]
  },
  {
   "cell_type": "code",
   "execution_count": 17,
   "id": "63ad1796-4545-4e81-a195-b9e2df21b8ef",
   "metadata": {},
   "outputs": [],
   "source": [
    "text = main()"
   ]
  },
  {
   "cell_type": "code",
   "execution_count": 19,
   "id": "7a7f8125-501f-4ff1-9443-eee9e68bf848",
   "metadata": {},
   "outputs": [
    {
     "name": "stdout",
     "output_type": "stream",
     "text": [
      "خريد اينترنتي\n",
      "\n"
     ]
    }
   ],
   "source": [
    "print('\\n'.join(text))"
   ]
  },
  {
   "cell_type": "code",
   "execution_count": 34,
   "id": "945ff543-f7b1-4bd4-ade4-d443cc19072c",
   "metadata": {},
   "outputs": [],
   "source": [
    "soup = BeautifulSoup('''\n",
    "<div>\n",
    "Yo0\n",
    "<div>\n",
    "Yo1\n",
    "<div>Yo11</div>\n",
    "<div>Yo12</div>\n",
    "Yo2\n",
    "<div>Yo21</div>\n",
    "<div>Yo22</div>\n",
    "</div>\n",
    "</div>\n",
    "''', 'html.parser')"
   ]
  },
  {
   "cell_type": "code",
   "execution_count": 36,
   "id": "205b9e81-e99a-4eba-bb56-e7551de4458d",
   "metadata": {},
   "outputs": [
    {
     "name": "stdout",
     "output_type": "stream",
     "text": [
      "\n",
      "\n",
      "Yo0\n",
      "\n",
      "Yo1\n",
      "Yo11\n",
      "Yo12\n",
      "Yo2\n",
      "Yo21\n",
      "Yo22\n",
      "\n",
      "\n",
      "\n"
     ]
    }
   ],
   "source": [
    "print(soup.getText())"
   ]
  }
 ],
 "metadata": {
  "kernelspec": {
   "display_name": "Python 3",
   "language": "python",
   "name": "python3"
  },
  "language_info": {
   "codemirror_mode": {
    "name": "ipython",
    "version": 3
   },
   "file_extension": ".py",
   "mimetype": "text/x-python",
   "name": "python",
   "nbconvert_exporter": "python",
   "pygments_lexer": "ipython3",
   "version": "3.8.11"
  }
 },
 "nbformat": 4,
 "nbformat_minor": 5
}
