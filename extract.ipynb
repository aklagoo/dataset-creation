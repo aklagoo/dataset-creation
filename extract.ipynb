{
 "cells": [
  {
   "cell_type": "markdown",
   "id": "9c67356a-cfb5-41d2-94a7-5774b06dc01b",
   "metadata": {},
   "source": [
    "# 0. Initialization"
   ]
  },
  {
   "cell_type": "markdown",
   "id": "0b423013-b90e-4651-b3e2-aaa5d35a2e3b",
   "metadata": {},
   "source": [
    "## 0.1 Imports"
   ]
  },
  {
   "cell_type": "code",
   "execution_count": 2,
   "id": "1a9c8a2c-a9cf-4fa0-b0ee-3ae1d8f09a97",
   "metadata": {},
   "outputs": [],
   "source": [
    "from warcio.archiveiterator import ArchiveIterator\n",
    "from bs4 import BeautifulSoup\n",
    "import urllib\n",
    "from collections import namedtuple\n",
    "import uuid\n",
    "import os\n",
    "import pandas as pd"
   ]
  },
  {
   "cell_type": "markdown",
   "id": "cd23a318-fe78-4c36-a88b-3c88d5e762bf",
   "metadata": {},
   "source": [
    "## 0.2 Constants"
   ]
  },
  {
   "cell_type": "code",
   "execution_count": 3,
   "id": "dea4fb16-4407-487d-bb3a-97ee50c63886",
   "metadata": {},
   "outputs": [],
   "source": [
    "INP_PATH = \"data/segments/CC-MAIN-20210723143921-20210723173921-00258.warc.gz\"\n",
    "OUT_PATH = \"data/img\"\n",
    "CSV_PATH = \"data/csv/img.csv\""
   ]
  },
  {
   "cell_type": "code",
   "execution_count": 4,
   "id": "425629de-eb66-405d-82c3-a25fc7650329",
   "metadata": {},
   "outputs": [],
   "source": [
    "SEGMENT_ID = \"1627046149929.88\""
   ]
  },
  {
   "cell_type": "markdown",
   "id": "a472932e-ff7c-4cae-be50-a466d7c20d05",
   "metadata": {},
   "source": [
    "## 0.3 Utility Functions"
   ]
  },
  {
   "cell_type": "code",
   "execution_count": 5,
   "id": "532f84bb-ca2f-4e50-bdb1-6e00ed29981e",
   "metadata": {},
   "outputs": [],
   "source": [
    "def img_exists(url):\n",
    "    try:\n",
    "        status = urllib.request.urlopen(url).getcode()\n",
    "        if status == 200:\n",
    "            return True\n",
    "        else:\n",
    "            return False\n",
    "    except:\n",
    "        return False"
   ]
  },
  {
   "cell_type": "code",
   "execution_count": 6,
   "id": "48248fdc-6136-4e42-a6db-195b2607870e",
   "metadata": {},
   "outputs": [],
   "source": [
    "def download(url:str, uuid:str, outdir:str=OUT_PATH):\n",
    "    ext = url.split('.')[-1].split('?')[0]\n",
    "    path = outdir + '/' + uuid + '.' + ext\n",
    "    urllib.request.urlretrieve(url, path)\n",
    "    \n",
    "    return path"
   ]
  },
  {
   "cell_type": "code",
   "execution_count": 7,
   "id": "3fdb9bc5-71cf-4a06-a75f-8674825a29cc",
   "metadata": {},
   "outputs": [],
   "source": [
    "def export_csv(l, out_path=CSV_PATH):\n",
    "    df = pd.DataFrame(l)\n",
    "    df.to_csv(out_path, index=False)"
   ]
  },
  {
   "cell_type": "code",
   "execution_count": 8,
   "id": "671fb151-641b-4975-b8d1-9fa3925d9894",
   "metadata": {},
   "outputs": [],
   "source": [
    "def extract_text(parent):\n",
    "    text = []\n",
    "    for tag in parent.find_all(recursive=False):\n",
    "        text.append(tag.get_text())\n",
    "        text.extend(extract_text(tag))"
   ]
  },
  {
   "cell_type": "markdown",
   "id": "c24f4097-30c8-4d2a-8134-b413e0715272",
   "metadata": {},
   "source": [
    "# 1. Parsing"
   ]
  },
  {
   "cell_type": "code",
   "execution_count": 15,
   "id": "e2561894-c066-4c95-bf7a-a4bdebd25436",
   "metadata": {},
   "outputs": [],
   "source": [
    "def parse(content:str):\n",
    "    \"\"\"Extract image src-alt pairs.\n",
    "    \n",
    "    Args:\n",
    "        content: String containing a page\n",
    "    Returns:\n",
    "        imgs: A list of dictionary objects with the format:\n",
    "            {\"src\": \"http://sample.url/pathtoimg.jpg\", \"alt\": \"Sample description\",}\n",
    "    \"\"\"\n",
    "    imgs = []\n",
    "    try:\n",
    "        soup = BeautifulSoup(content, 'html.parser')\n",
    "        tags = soup.find_all('img', src=True, alt=True)\n",
    "        for tag in tags:\n",
    "            src = tag['src']\n",
    "            alt = tag['alt']\n",
    "            try:\n",
    "                par = tag.parent.gettext()\n",
    "            exce\n",
    "            imgs.append({'src': src, 'alt': alt, 'par': par})\n",
    "    except:\n",
    "        pass\n",
    "    return imgs"
   ]
  },
  {
   "cell_type": "markdown",
   "id": "87f64b81-f95a-4eb9-b82c-a6c58d9274b4",
   "metadata": {},
   "source": [
    "# 2. Process WARC"
   ]
  },
  {
   "cell_type": "markdown",
   "id": "3a8c18f6-63e7-40ed-beaa-caca3791ed82",
   "metadata": {},
   "source": [
    "For each record\n",
    "    parse\n",
    "    for each image\n",
    "        process url\n",
    "            check if url exists\n",
    "            generate uuid\n",
    "            download image\n",
    "        append to all_imgs"
   ]
  },
  {
   "cell_type": "code",
   "execution_count": 10,
   "id": "5dd83e44-49d8-4c61-9a2c-9db6bb320646",
   "metadata": {},
   "outputs": [],
   "source": [
    "def process_warc(warc_path:str, warc_segment_id:str, imgs:list=[], uuids:dict={}, limit=-1):\n",
    "    with open(warc_path, 'rb') as stream:\n",
    "        for record in ArchiveIterator(stream):\n",
    "            try:\n",
    "                # Parse page\n",
    "                warc_imgs = parse(record.content_stream().read().decode(\"utf-8\"))\n",
    "                for img in warc_imgs:\n",
    "                    if img_exists(img['src']):\n",
    "                        print('[ACCEPTED] ' + img['src'])\n",
    "                        # Generate UUID\n",
    "                        img_uuid = uuid.uuid4()\n",
    "\n",
    "                        # Download image\n",
    "                        img_path = download(img['src'], str(img_uuid))\n",
    "\n",
    "                        # Append to imgs\n",
    "                        imgs.append({\n",
    "                            'img_uuid': str(img_uuid),\n",
    "                            'img_url': img['src'],\n",
    "                            'img_path': img_path,\n",
    "                            'img_caption': img['alt'],\n",
    "                            'img_par': img['par']\n",
    "                            'warc_segment_id': warc_segment_id,\n",
    "                            'warc_path': warc_path,\n",
    "                            'warc_url': record.rec_headers.get_header('WARC-Target-URI')\n",
    "                        })\n",
    "                        uuids[img_uuid] = True\n",
    "                    else:\n",
    "                        print('[REJECTED] ' + img['src'])\n",
    "            except:\n",
    "                pass\n",
    "            if len(imgs) > limit:\n",
    "                break\n",
    "    return imgs, uuids"
   ]
  },
  {
   "cell_type": "code",
   "execution_count": 11,
   "id": "75114061-ca89-4f69-b3a5-42b1afec08a0",
   "metadata": {
    "scrolled": true,
    "tags": []
   },
   "outputs": [
    {
     "ename": "KeyboardInterrupt",
     "evalue": "",
     "output_type": "error",
     "traceback": [
      "\u001b[1;31m---------------------------------------------------------------------------\u001b[0m",
      "\u001b[1;31mKeyboardInterrupt\u001b[0m                         Traceback (most recent call last)",
      "\u001b[1;32m<ipython-input-14-6df2e136dec0>\u001b[0m in \u001b[0;36m<module>\u001b[1;34m\u001b[0m\n\u001b[1;32m----> 1\u001b[1;33m \u001b[0mimgs\u001b[0m\u001b[1;33m,\u001b[0m \u001b[0muuids\u001b[0m \u001b[1;33m=\u001b[0m \u001b[0mprocess_warc\u001b[0m\u001b[1;33m(\u001b[0m\u001b[0mINP_PATH\u001b[0m\u001b[1;33m,\u001b[0m \u001b[0mSEGMENT_ID\u001b[0m\u001b[1;33m,\u001b[0m \u001b[0mlimit\u001b[0m\u001b[1;33m=\u001b[0m\u001b[1;36m10\u001b[0m\u001b[1;33m)\u001b[0m\u001b[1;33m\u001b[0m\u001b[1;33m\u001b[0m\u001b[0m\n\u001b[0m",
      "\u001b[1;32m<ipython-input-13-0c4aa3ecdc35>\u001b[0m in \u001b[0;36mprocess_warc\u001b[1;34m(warc_path, warc_segment_id, imgs, uuids, limit)\u001b[0m\n\u001b[0;32m      1\u001b[0m \u001b[1;32mdef\u001b[0m \u001b[0mprocess_warc\u001b[0m\u001b[1;33m(\u001b[0m\u001b[0mwarc_path\u001b[0m\u001b[1;33m:\u001b[0m\u001b[0mstr\u001b[0m\u001b[1;33m,\u001b[0m \u001b[0mwarc_segment_id\u001b[0m\u001b[1;33m:\u001b[0m\u001b[0mstr\u001b[0m\u001b[1;33m,\u001b[0m \u001b[0mimgs\u001b[0m\u001b[1;33m:\u001b[0m\u001b[0mlist\u001b[0m\u001b[1;33m=\u001b[0m\u001b[1;33m[\u001b[0m\u001b[1;33m]\u001b[0m\u001b[1;33m,\u001b[0m \u001b[0muuids\u001b[0m\u001b[1;33m:\u001b[0m\u001b[0mdict\u001b[0m\u001b[1;33m=\u001b[0m\u001b[1;33m{\u001b[0m\u001b[1;33m}\u001b[0m\u001b[1;33m,\u001b[0m \u001b[0mlimit\u001b[0m\u001b[1;33m=\u001b[0m\u001b[1;33m-\u001b[0m\u001b[1;36m1\u001b[0m\u001b[1;33m)\u001b[0m\u001b[1;33m:\u001b[0m\u001b[1;33m\u001b[0m\u001b[1;33m\u001b[0m\u001b[0m\n\u001b[0;32m      2\u001b[0m     \u001b[1;32mwith\u001b[0m \u001b[0mopen\u001b[0m\u001b[1;33m(\u001b[0m\u001b[0mwarc_path\u001b[0m\u001b[1;33m,\u001b[0m \u001b[1;34m'rb'\u001b[0m\u001b[1;33m)\u001b[0m \u001b[1;32mas\u001b[0m \u001b[0mstream\u001b[0m\u001b[1;33m:\u001b[0m\u001b[1;33m\u001b[0m\u001b[1;33m\u001b[0m\u001b[0m\n\u001b[1;32m----> 3\u001b[1;33m         \u001b[1;32mfor\u001b[0m \u001b[0mrecord\u001b[0m \u001b[1;32min\u001b[0m \u001b[0mArchiveIterator\u001b[0m\u001b[1;33m(\u001b[0m\u001b[0mstream\u001b[0m\u001b[1;33m)\u001b[0m\u001b[1;33m:\u001b[0m\u001b[1;33m\u001b[0m\u001b[1;33m\u001b[0m\u001b[0m\n\u001b[0m\u001b[0;32m      4\u001b[0m             \u001b[1;32mtry\u001b[0m\u001b[1;33m:\u001b[0m\u001b[1;33m\u001b[0m\u001b[1;33m\u001b[0m\u001b[0m\n\u001b[0;32m      5\u001b[0m                 \u001b[1;31m# Parse page\u001b[0m\u001b[1;33m\u001b[0m\u001b[1;33m\u001b[0m\u001b[1;33m\u001b[0m\u001b[0m\n",
      "\u001b[1;32m~\\anaconda3\\envs\\torch-nlp\\lib\\site-packages\\warcio\\archiveiterator.py\u001b[0m in \u001b[0;36m_iterate_records\u001b[1;34m(self)\u001b[0m\n\u001b[0;32m    108\u001b[0m         \u001b[1;32mwhile\u001b[0m \u001b[1;32mTrue\u001b[0m\u001b[1;33m:\u001b[0m\u001b[1;33m\u001b[0m\u001b[1;33m\u001b[0m\u001b[0m\n\u001b[0;32m    109\u001b[0m             \u001b[1;32mtry\u001b[0m\u001b[1;33m:\u001b[0m\u001b[1;33m\u001b[0m\u001b[1;33m\u001b[0m\u001b[0m\n\u001b[1;32m--> 110\u001b[1;33m                 \u001b[0mself\u001b[0m\u001b[1;33m.\u001b[0m\u001b[0mrecord\u001b[0m \u001b[1;33m=\u001b[0m \u001b[0mself\u001b[0m\u001b[1;33m.\u001b[0m\u001b[0m_next_record\u001b[0m\u001b[1;33m(\u001b[0m\u001b[0mself\u001b[0m\u001b[1;33m.\u001b[0m\u001b[0mnext_line\u001b[0m\u001b[1;33m)\u001b[0m\u001b[1;33m\u001b[0m\u001b[1;33m\u001b[0m\u001b[0m\n\u001b[0m\u001b[0;32m    111\u001b[0m                 \u001b[1;32mif\u001b[0m \u001b[0mraise_invalid_gzip\u001b[0m\u001b[1;33m:\u001b[0m\u001b[1;33m\u001b[0m\u001b[1;33m\u001b[0m\u001b[0m\n\u001b[0;32m    112\u001b[0m                     \u001b[0mself\u001b[0m\u001b[1;33m.\u001b[0m\u001b[0m_raise_invalid_gzip_err\u001b[0m\u001b[1;33m(\u001b[0m\u001b[1;33m)\u001b[0m\u001b[1;33m\u001b[0m\u001b[1;33m\u001b[0m\u001b[0m\n",
      "\u001b[1;32m~\\anaconda3\\envs\\torch-nlp\\lib\\site-packages\\warcio\\archiveiterator.py\u001b[0m in \u001b[0;36m_next_record\u001b[1;34m(self, next_line)\u001b[0m\n\u001b[0;32m    255\u001b[0m         \u001b[0mSupporting\u001b[0m \u001b[0mwarc\u001b[0m \u001b[1;32mand\u001b[0m \u001b[0marc\u001b[0m \u001b[0mrecords\u001b[0m\u001b[1;33m\u001b[0m\u001b[1;33m\u001b[0m\u001b[0m\n\u001b[0;32m    256\u001b[0m         \"\"\"\n\u001b[1;32m--> 257\u001b[1;33m         record = self.loader.parse_record_stream(self.reader,\n\u001b[0m\u001b[0;32m    258\u001b[0m                                                  \u001b[0mnext_line\u001b[0m\u001b[1;33m,\u001b[0m\u001b[1;33m\u001b[0m\u001b[1;33m\u001b[0m\u001b[0m\n\u001b[0;32m    259\u001b[0m                                                  \u001b[0mself\u001b[0m\u001b[1;33m.\u001b[0m\u001b[0mknown_format\u001b[0m\u001b[1;33m,\u001b[0m\u001b[1;33m\u001b[0m\u001b[1;33m\u001b[0m\u001b[0m\n",
      "\u001b[1;32m~\\anaconda3\\envs\\torch-nlp\\lib\\site-packages\\warcio\\recordloader.py\u001b[0m in \u001b[0;36mparse_record_stream\u001b[1;34m(self, stream, statusline, known_format, no_record_parse, ensure_http_headers, check_digests)\u001b[0m\n\u001b[0;32m     83\u001b[0m         \u001b[0mto\u001b[0m \u001b[0mfaciliate\u001b[0m \u001b[0mparsing\u001b[0m\u001b[1;33m.\u001b[0m\u001b[1;33m\u001b[0m\u001b[1;33m\u001b[0m\u001b[0m\n\u001b[0;32m     84\u001b[0m         \"\"\"\n\u001b[1;32m---> 85\u001b[1;33m         (the_format, rec_headers) = (self.\n\u001b[0m\u001b[0;32m     86\u001b[0m                                      _detect_type_load_headers(stream,\n\u001b[0;32m     87\u001b[0m                                                                \u001b[0mstatusline\u001b[0m\u001b[1;33m,\u001b[0m\u001b[1;33m\u001b[0m\u001b[1;33m\u001b[0m\u001b[0m\n",
      "\u001b[1;32m~\\anaconda3\\envs\\torch-nlp\\lib\\site-packages\\warcio\\recordloader.py\u001b[0m in \u001b[0;36m_detect_type_load_headers\u001b[1;34m(self, stream, statusline, known_format)\u001b[0m\n\u001b[0;32m    222\u001b[0m             \u001b[1;31m# try as warc first\u001b[0m\u001b[1;33m\u001b[0m\u001b[1;33m\u001b[0m\u001b[1;33m\u001b[0m\u001b[0m\n\u001b[0;32m    223\u001b[0m             \u001b[1;32mtry\u001b[0m\u001b[1;33m:\u001b[0m\u001b[1;33m\u001b[0m\u001b[1;33m\u001b[0m\u001b[0m\n\u001b[1;32m--> 224\u001b[1;33m                 \u001b[0mrec_headers\u001b[0m \u001b[1;33m=\u001b[0m \u001b[0mself\u001b[0m\u001b[1;33m.\u001b[0m\u001b[0mwarc_parser\u001b[0m\u001b[1;33m.\u001b[0m\u001b[0mparse\u001b[0m\u001b[1;33m(\u001b[0m\u001b[0mstream\u001b[0m\u001b[1;33m,\u001b[0m \u001b[0mstatusline\u001b[0m\u001b[1;33m)\u001b[0m\u001b[1;33m\u001b[0m\u001b[1;33m\u001b[0m\u001b[0m\n\u001b[0m\u001b[0;32m    225\u001b[0m                 \u001b[1;32mreturn\u001b[0m \u001b[1;34m'warc'\u001b[0m\u001b[1;33m,\u001b[0m \u001b[0mrec_headers\u001b[0m\u001b[1;33m\u001b[0m\u001b[1;33m\u001b[0m\u001b[0m\n\u001b[0;32m    226\u001b[0m             \u001b[1;32mexcept\u001b[0m \u001b[0mStatusAndHeadersParserException\u001b[0m \u001b[1;32mas\u001b[0m \u001b[0mse\u001b[0m\u001b[1;33m:\u001b[0m\u001b[1;33m\u001b[0m\u001b[1;33m\u001b[0m\u001b[0m\n",
      "\u001b[1;32m~\\anaconda3\\envs\\torch-nlp\\lib\\site-packages\\warcio\\statusandheaders.py\u001b[0m in \u001b[0;36mparse\u001b[1;34m(self, stream, full_statusline)\u001b[0m\n\u001b[0;32m    244\u001b[0m         \u001b[1;31m# status line w newlines intact\u001b[0m\u001b[1;33m\u001b[0m\u001b[1;33m\u001b[0m\u001b[1;33m\u001b[0m\u001b[0m\n\u001b[0;32m    245\u001b[0m         \u001b[1;32mif\u001b[0m \u001b[0mfull_statusline\u001b[0m \u001b[1;32mis\u001b[0m \u001b[1;32mNone\u001b[0m\u001b[1;33m:\u001b[0m\u001b[1;33m\u001b[0m\u001b[1;33m\u001b[0m\u001b[0m\n\u001b[1;32m--> 246\u001b[1;33m             \u001b[0mfull_statusline\u001b[0m \u001b[1;33m=\u001b[0m \u001b[0mstream\u001b[0m\u001b[1;33m.\u001b[0m\u001b[0mreadline\u001b[0m\u001b[1;33m(\u001b[0m\u001b[1;33m)\u001b[0m\u001b[1;33m\u001b[0m\u001b[1;33m\u001b[0m\u001b[0m\n\u001b[0m\u001b[0;32m    247\u001b[0m \u001b[1;33m\u001b[0m\u001b[0m\n\u001b[0;32m    248\u001b[0m         \u001b[0mfull_statusline\u001b[0m \u001b[1;33m=\u001b[0m \u001b[0mself\u001b[0m\u001b[1;33m.\u001b[0m\u001b[0mdecode_header\u001b[0m\u001b[1;33m(\u001b[0m\u001b[0mfull_statusline\u001b[0m\u001b[1;33m)\u001b[0m\u001b[1;33m\u001b[0m\u001b[1;33m\u001b[0m\u001b[0m\n",
      "\u001b[1;32m~\\anaconda3\\envs\\torch-nlp\\lib\\site-packages\\warcio\\bufferedreaders.py\u001b[0m in \u001b[0;36mreadline\u001b[1;34m(self, length)\u001b[0m\n\u001b[0;32m    183\u001b[0m             \u001b[1;32mreturn\u001b[0m \u001b[1;34mb''\u001b[0m\u001b[1;33m\u001b[0m\u001b[1;33m\u001b[0m\u001b[0m\n\u001b[0;32m    184\u001b[0m \u001b[1;33m\u001b[0m\u001b[0m\n\u001b[1;32m--> 185\u001b[1;33m         \u001b[0mself\u001b[0m\u001b[1;33m.\u001b[0m\u001b[0m_fillbuff\u001b[0m\u001b[1;33m(\u001b[0m\u001b[1;33m)\u001b[0m\u001b[1;33m\u001b[0m\u001b[1;33m\u001b[0m\u001b[0m\n\u001b[0m\u001b[0;32m    186\u001b[0m \u001b[1;33m\u001b[0m\u001b[0m\n\u001b[0;32m    187\u001b[0m         \u001b[1;32mif\u001b[0m \u001b[0mself\u001b[0m\u001b[1;33m.\u001b[0m\u001b[0mempty\u001b[0m\u001b[1;33m(\u001b[0m\u001b[1;33m)\u001b[0m\u001b[1;33m:\u001b[0m\u001b[1;33m\u001b[0m\u001b[1;33m\u001b[0m\u001b[0m\n",
      "\u001b[1;32m~\\anaconda3\\envs\\torch-nlp\\lib\\site-packages\\warcio\\bufferedreaders.py\u001b[0m in \u001b[0;36m_fillbuff\u001b[1;34m(self, block_size)\u001b[0m\n\u001b[0;32m    111\u001b[0m             \u001b[0mdata\u001b[0m \u001b[1;33m=\u001b[0m \u001b[0mself\u001b[0m\u001b[1;33m.\u001b[0m\u001b[0mstream\u001b[0m\u001b[1;33m.\u001b[0m\u001b[0mread\u001b[0m\u001b[1;33m(\u001b[0m\u001b[0mblock_size\u001b[0m\u001b[1;33m)\u001b[0m\u001b[1;33m\u001b[0m\u001b[1;33m\u001b[0m\u001b[0m\n\u001b[0;32m    112\u001b[0m \u001b[1;33m\u001b[0m\u001b[0m\n\u001b[1;32m--> 113\u001b[1;33m         \u001b[0mself\u001b[0m\u001b[1;33m.\u001b[0m\u001b[0m_process_read\u001b[0m\u001b[1;33m(\u001b[0m\u001b[0mdata\u001b[0m\u001b[1;33m)\u001b[0m\u001b[1;33m\u001b[0m\u001b[1;33m\u001b[0m\u001b[0m\n\u001b[0m\u001b[0;32m    114\u001b[0m \u001b[1;33m\u001b[0m\u001b[0m\n\u001b[0;32m    115\u001b[0m         \u001b[1;31m# if raw data is not empty and decompressor set, but\u001b[0m\u001b[1;33m\u001b[0m\u001b[1;33m\u001b[0m\u001b[1;33m\u001b[0m\u001b[0m\n",
      "\u001b[1;32m~\\anaconda3\\envs\\torch-nlp\\lib\\site-packages\\warcio\\bufferedreaders.py\u001b[0m in \u001b[0;36m_process_read\u001b[1;34m(self, data)\u001b[0m\n\u001b[0;32m    126\u001b[0m             \u001b[1;32mreturn\u001b[0m\u001b[1;33m\u001b[0m\u001b[1;33m\u001b[0m\u001b[0m\n\u001b[0;32m    127\u001b[0m \u001b[1;33m\u001b[0m\u001b[0m\n\u001b[1;32m--> 128\u001b[1;33m         \u001b[0mdata\u001b[0m \u001b[1;33m=\u001b[0m \u001b[0mself\u001b[0m\u001b[1;33m.\u001b[0m\u001b[0m_decompress\u001b[0m\u001b[1;33m(\u001b[0m\u001b[0mdata\u001b[0m\u001b[1;33m)\u001b[0m\u001b[1;33m\u001b[0m\u001b[1;33m\u001b[0m\u001b[0m\n\u001b[0m\u001b[0;32m    129\u001b[0m         \u001b[0mself\u001b[0m\u001b[1;33m.\u001b[0m\u001b[0mbuff_size\u001b[0m \u001b[1;33m=\u001b[0m \u001b[0mlen\u001b[0m\u001b[1;33m(\u001b[0m\u001b[0mdata\u001b[0m\u001b[1;33m)\u001b[0m\u001b[1;33m\u001b[0m\u001b[1;33m\u001b[0m\u001b[0m\n\u001b[0;32m    130\u001b[0m         \u001b[0mself\u001b[0m\u001b[1;33m.\u001b[0m\u001b[0mnum_read\u001b[0m \u001b[1;33m+=\u001b[0m \u001b[0mself\u001b[0m\u001b[1;33m.\u001b[0m\u001b[0mbuff_size\u001b[0m\u001b[1;33m\u001b[0m\u001b[1;33m\u001b[0m\u001b[0m\n",
      "\u001b[1;32m~\\anaconda3\\envs\\torch-nlp\\lib\\site-packages\\warcio\\bufferedreaders.py\u001b[0m in \u001b[0;36m_decompress\u001b[1;34m(self, data)\u001b[0m\n\u001b[0;32m    135\u001b[0m         \u001b[1;32mif\u001b[0m \u001b[0mself\u001b[0m\u001b[1;33m.\u001b[0m\u001b[0mdecompressor\u001b[0m \u001b[1;32mand\u001b[0m \u001b[0mdata\u001b[0m\u001b[1;33m:\u001b[0m\u001b[1;33m\u001b[0m\u001b[1;33m\u001b[0m\u001b[0m\n\u001b[0;32m    136\u001b[0m             \u001b[1;32mtry\u001b[0m\u001b[1;33m:\u001b[0m\u001b[1;33m\u001b[0m\u001b[1;33m\u001b[0m\u001b[0m\n\u001b[1;32m--> 137\u001b[1;33m                 \u001b[0mdata\u001b[0m \u001b[1;33m=\u001b[0m \u001b[0mself\u001b[0m\u001b[1;33m.\u001b[0m\u001b[0mdecompressor\u001b[0m\u001b[1;33m.\u001b[0m\u001b[0mdecompress\u001b[0m\u001b[1;33m(\u001b[0m\u001b[0mdata\u001b[0m\u001b[1;33m)\u001b[0m\u001b[1;33m\u001b[0m\u001b[1;33m\u001b[0m\u001b[0m\n\u001b[0m\u001b[0;32m    138\u001b[0m             \u001b[1;32mexcept\u001b[0m \u001b[0mException\u001b[0m \u001b[1;32mas\u001b[0m \u001b[0me\u001b[0m\u001b[1;33m:\u001b[0m\u001b[1;33m\u001b[0m\u001b[1;33m\u001b[0m\u001b[0m\n\u001b[0;32m    139\u001b[0m                 \u001b[1;31m# if first read attempt, assume non-gzipped stream\u001b[0m\u001b[1;33m\u001b[0m\u001b[1;33m\u001b[0m\u001b[1;33m\u001b[0m\u001b[0m\n",
      "\u001b[1;31mKeyboardInterrupt\u001b[0m: "
     ]
    }
   ],
   "source": [
    "imgs, uuids = process_warc(INP_PATH, SEGMENT_ID, limit=10)"
   ]
  },
  {
   "cell_type": "code",
   "execution_count": 32,
   "id": "5b8d6ae3-7bf9-429b-b7d0-1d94bbc6b742",
   "metadata": {
    "scrolled": true,
    "tags": []
   },
   "outputs": [],
   "source": [
    "export_csv(imgs)"
   ]
  }
 ],
 "metadata": {
  "kernelspec": {
   "display_name": "Python 3",
   "language": "python",
   "name": "python3"
  },
  "language_info": {
   "codemirror_mode": {
    "name": "ipython",
    "version": 3
   },
   "file_extension": ".py",
   "mimetype": "text/x-python",
   "name": "python",
   "nbconvert_exporter": "python",
   "pygments_lexer": "ipython3",
   "version": "3.8.11"
  }
 },
 "nbformat": 4,
 "nbformat_minor": 5
}
